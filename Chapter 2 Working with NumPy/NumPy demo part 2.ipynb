{
 "cells": [
  {
   "cell_type": "code",
   "execution_count": 1,
   "id": "518dae0c",
   "metadata": {},
   "outputs": [
    {
     "name": "stdout",
     "output_type": "stream",
     "text": [
      "[0. 0. 0.]\n"
     ]
    }
   ],
   "source": [
    "# use of zeros and ones to create a numpy array of 0s and 1s\n",
    "import numpy as np\n",
    "x = np.zeros(3)\n",
    "print(x)"
   ]
  },
  {
   "cell_type": "code",
   "execution_count": 2,
   "id": "1b2dd1fa",
   "metadata": {},
   "outputs": [
    {
     "name": "stdout",
     "output_type": "stream",
     "text": [
      "[[0. 0. 0.]\n",
      " [0. 0. 0.]\n",
      " [0. 0. 0.]]\n"
     ]
    }
   ],
   "source": [
    "# 2D array of zeros \n",
    "y = np.zeros((3,3))\n",
    "print(y)"
   ]
  },
  {
   "cell_type": "code",
   "execution_count": 3,
   "id": "450763a2",
   "metadata": {},
   "outputs": [
    {
     "name": "stdout",
     "output_type": "stream",
     "text": [
      "[1. 1. 1.]\n"
     ]
    }
   ],
   "source": [
    "# 1 D array of ones\n",
    "print(np.ones(3))"
   ]
  },
  {
   "cell_type": "code",
   "execution_count": 4,
   "id": "6e00e0bf",
   "metadata": {},
   "outputs": [
    {
     "name": "stdout",
     "output_type": "stream",
     "text": [
      "[[1. 1. 1.]\n",
      " [1. 1. 1.]\n",
      " [1. 1. 1.]]\n"
     ]
    }
   ],
   "source": [
    "# 2d array of ones\n",
    "print(np.ones((3,3)))"
   ]
  },
  {
   "cell_type": "code",
   "execution_count": 5,
   "id": "3428eada",
   "metadata": {},
   "outputs": [
    {
     "name": "stdout",
     "output_type": "stream",
     "text": [
      "[ 0. 10. 20.]\n"
     ]
    }
   ],
   "source": [
    "#  use of line space\n",
    "# used for generating evenly spaced numbers\n",
    "# for example use the following for generating 3 evenly spaced numbers between 0 to 20\n",
    "print(np.linspace(0,20,3))"
   ]
  },
  {
   "cell_type": "code",
   "execution_count": 6,
   "id": "0a1ef936",
   "metadata": {},
   "outputs": [
    {
     "name": "stdout",
     "output_type": "stream",
     "text": [
      "[ 0.          0.40816327  0.81632653  1.2244898   1.63265306  2.04081633\n",
      "  2.44897959  2.85714286  3.26530612  3.67346939  4.08163265  4.48979592\n",
      "  4.89795918  5.30612245  5.71428571  6.12244898  6.53061224  6.93877551\n",
      "  7.34693878  7.75510204  8.16326531  8.57142857  8.97959184  9.3877551\n",
      "  9.79591837 10.20408163 10.6122449  11.02040816 11.42857143 11.83673469\n",
      " 12.24489796 12.65306122 13.06122449 13.46938776 13.87755102 14.28571429\n",
      " 14.69387755 15.10204082 15.51020408 15.91836735 16.32653061 16.73469388\n",
      " 17.14285714 17.55102041 17.95918367 18.36734694 18.7755102  19.18367347\n",
      " 19.59183673 20.        ]\n"
     ]
    }
   ],
   "source": [
    "# generate 50 evenly spaced numbers between 0 to 20\n",
    "print(np.linspace(0,20,50))"
   ]
  },
  {
   "cell_type": "code",
   "execution_count": 7,
   "id": "a5443278",
   "metadata": {},
   "outputs": [
    {
     "name": "stdout",
     "output_type": "stream",
     "text": [
      "[[1. 0. 0.]\n",
      " [0. 1. 0.]\n",
      " [0. 0. 1.]]\n"
     ]
    }
   ],
   "source": [
    "#  use of eye function to create idenntity matrix\n",
    "print(np.eye(3))"
   ]
  },
  {
   "cell_type": "code",
   "execution_count": 8,
   "id": "3072125b",
   "metadata": {},
   "outputs": [
    {
     "name": "stdout",
     "output_type": "stream",
     "text": [
      "27\n"
     ]
    }
   ],
   "source": [
    "# use random module of numpy\n",
    "import random\n",
    "# returns a single random value between 1 and 30\n",
    "print(np.random.randint(1,30))"
   ]
  },
  {
   "cell_type": "code",
   "execution_count": 9,
   "id": "8f8fced6",
   "metadata": {},
   "outputs": [
    {
     "name": "stdout",
     "output_type": "stream",
     "text": [
      "[ 4 13 29]\n"
     ]
    }
   ],
   "source": [
    "# returns 3 random values between 1 and 30\n",
    "print(np.random.randint(1,30,3))"
   ]
  },
  {
   "cell_type": "code",
   "execution_count": 10,
   "id": "d45fd22f",
   "metadata": {},
   "outputs": [
    {
     "name": "stdout",
     "output_type": "stream",
     "text": [
      "[[0.55263672 0.16074884]\n",
      " [0.31876112 0.55648888]]\n"
     ]
    }
   ],
   "source": [
    "# generate 2d array containing 2 rows and each row containing 2 elements\n",
    "print(np.random.rand(2,2))"
   ]
  },
  {
   "cell_type": "code",
   "execution_count": 11,
   "id": "2c241c72",
   "metadata": {},
   "outputs": [
    {
     "name": "stdout",
     "output_type": "stream",
     "text": [
      "[-1.63568127  0.21633867]\n"
     ]
    }
   ],
   "source": [
    "# use randn for generating numpy array of random numbers using normal distrib\n",
    "print(np.random.randn(2))"
   ]
  },
  {
   "cell_type": "code",
   "execution_count": 12,
   "id": "d2867a37",
   "metadata": {},
   "outputs": [
    {
     "name": "stdout",
     "output_type": "stream",
     "text": [
      "[[3 5 5]\n",
      " [6 4 3]\n",
      " [4 6 3]]\n"
     ]
    }
   ],
   "source": [
    "# use choice function to generate numpy array\n",
    "print(np.random.choice([1,2,3,4,5,6],size=(3,3)))"
   ]
  },
  {
   "cell_type": "code",
   "execution_count": 13,
   "id": "76982b63",
   "metadata": {},
   "outputs": [
    {
     "name": "stdout",
     "output_type": "stream",
     "text": [
      "9\n",
      "8\n",
      "1\n",
      "0\n"
     ]
    }
   ],
   "source": [
    "# max and min from numpy array and its index position\n",
    "# make a 1-D numpy array\n",
    "arr = np.array([1,2,3,4,5,6,7,8,9])\n",
    "# get the maximum value of a numpy array\n",
    "print(arr.max())\n",
    "# get the index position of the maximum value of numpy array\n",
    "print(arr.argmax())\n",
    "# get the minimum value of a numpy array\n",
    "print(arr.min())\n",
    "# get the index position of the minimum value of numpy array\n",
    "print(arr.argmin())"
   ]
  },
  {
   "cell_type": "code",
   "execution_count": 14,
   "id": "4eb879a4",
   "metadata": {},
   "outputs": [
    {
     "name": "stdout",
     "output_type": "stream",
     "text": [
      "(array([4], dtype=int64),)\n"
     ]
    }
   ],
   "source": [
    "import numpy as np\n",
    "# search a numpy array\n",
    "p = np.array([1,2,3,4,5,6])\n",
    "# print index where element 5 exists\n",
    "print(np.where(p==5))"
   ]
  },
  {
   "cell_type": "code",
   "execution_count": 15,
   "id": "0bb2e8b5",
   "metadata": {},
   "outputs": [
    {
     "name": "stdout",
     "output_type": "stream",
     "text": [
      "[7 5 8 6 9 1]\n",
      "-------\n",
      "[1 5 6 7 8 9]\n"
     ]
    }
   ],
   "source": [
    "# sort the array\n",
    "p = np.array([7,5,8,6,9,1])\n",
    "q = np.sort(p)\n",
    "print(p)\n",
    "print('-------')\n",
    "print(q)"
   ]
  },
  {
   "cell_type": "code",
   "execution_count": 16,
   "id": "8b4e8fab",
   "metadata": {},
   "outputs": [
    {
     "name": "stdout",
     "output_type": "stream",
     "text": [
      "[2. 3. 4. 5.]\n"
     ]
    }
   ],
   "source": [
    "# find square root of values of numpy array\n",
    "p = np.array([4,9,16,25])\n",
    "q = np.sqrt(p)\n",
    "print(q)"
   ]
  },
  {
   "cell_type": "code",
   "execution_count": 17,
   "id": "c19dfd2b",
   "metadata": {},
   "outputs": [
    {
     "name": "stdout",
     "output_type": "stream",
     "text": [
      "[7, 9]\n"
     ]
    }
   ],
   "source": [
    "# filter the data by traversing through numpy array\n",
    "# take data values that are greater than 6 in another array\n",
    "p = np.array([4,6,2,7,9])\n",
    "q = []\n",
    "for i in p:\n",
    "    if i>6:\n",
    "        q.append(i)\n",
    "print(q)"
   ]
  },
  {
   "cell_type": "code",
   "execution_count": 18,
   "id": "dd780a00",
   "metadata": {},
   "outputs": [
    {
     "name": "stdout",
     "output_type": "stream",
     "text": [
      "[array([1, 2, 3]), array([4, 5, 6])]\n"
     ]
    }
   ],
   "source": [
    "# split the numpy array\n",
    "p = np.array([1,2,3,4,5,6])\n",
    "q = np.split(p,2)\n",
    "print(q)"
   ]
  },
  {
   "cell_type": "code",
   "execution_count": 19,
   "id": "aa03bc00",
   "metadata": {},
   "outputs": [
    {
     "name": "stdout",
     "output_type": "stream",
     "text": [
      "[array([[1, 2, 3],\n",
      "       [4, 5, 6]]), array([[ 7,  8,  9],\n",
      "       [10, 11, 12]])]\n",
      "[[1 2 3]\n",
      " [4 5 6]]\n",
      "[[ 7  8  9]\n",
      " [10 11 12]]\n"
     ]
    }
   ],
   "source": [
    "# split a 2-D array\n",
    "p = np.array([[1,2,3],[4,5,6],[7,8,9],[10,11,12]])\n",
    "q = np.split(p,2)\n",
    "print(q)\n",
    "print(q[0])\n",
    "print(q[1])"
   ]
  },
  {
   "cell_type": "code",
   "execution_count": 29,
   "id": "0de3805a",
   "metadata": {},
   "outputs": [
    {
     "name": "stdout",
     "output_type": "stream",
     "text": [
      "[1 2 3 4 5 6]\n",
      "-------------\n",
      "[[1 2 3]\n",
      " [4 5 6]]\n",
      "-------------\n",
      "[[[1 4]\n",
      "  [2 5]\n",
      "  [3 6]]]\n"
     ]
    }
   ],
   "source": [
    "# concatenating numpy array\n",
    "arr1 = np.array([1,2,3])\n",
    "arr2 = np.array([4,5,6])\n",
    "arr3 = np.concatenate((arr1,arr2))\n",
    "print(arr3)\n",
    "arr4 = np.vstack((arr1,arr2))\n",
    "print('-------------')\n",
    "print(arr4)\n",
    "arr5 = np.dstack((arr1,arr2))\n",
    "print('-------------')\n",
    "print(arr5)"
   ]
  },
  {
   "cell_type": "code",
   "execution_count": 25,
   "id": "d0108e8a",
   "metadata": {},
   "outputs": [
    {
     "name": "stdout",
     "output_type": "stream",
     "text": [
      "[[1 2]\n",
      " [3 4]\n",
      " [5 6]\n",
      " [7 8]]\n",
      "-----------\n",
      "[[1 2 5 6]\n",
      " [3 4 7 8]]\n"
     ]
    }
   ],
   "source": [
    "# concatenating a 2-D numpy array\n",
    "arr1 = np.array([[1,2],[3,4]])\n",
    "arr2 = np.array([[5,6],[7,8]])\n",
    "arr3 = np.concatenate((arr1,arr2))\n",
    "print(arr3)\n",
    "arr4 = np.concatenate((arr1,arr2), axis=1)\n",
    "print('-----------')\n",
    "print(arr4)"
   ]
  },
  {
   "cell_type": "code",
   "execution_count": 30,
   "id": "9223b921",
   "metadata": {},
   "outputs": [
    {
     "name": "stdout",
     "output_type": "stream",
     "text": [
      "1\n",
      "2\n",
      "3\n",
      "4\n",
      "5\n"
     ]
    }
   ],
   "source": [
    "# iterating a numpy array\n",
    "# for 1-D array\n",
    "arr1 = np.array([1,2,3,4,5])\n",
    "for i in arr1:\n",
    "    print(i)"
   ]
  },
  {
   "cell_type": "code",
   "execution_count": 31,
   "id": "4b3bb48f",
   "metadata": {},
   "outputs": [
    {
     "name": "stdout",
     "output_type": "stream",
     "text": [
      "1\n",
      "2\n",
      "3\n",
      "4\n",
      "5\n",
      "6\n"
     ]
    }
   ],
   "source": [
    "# iterate a 2-D array\n",
    "arr2 = np.array([[1,2,3],[4,5,6]])\n",
    "for i in arr2:\n",
    "    for j in i:\n",
    "        print(j)"
   ]
  },
  {
   "cell_type": "code",
   "execution_count": 33,
   "id": "8d19e5ee",
   "metadata": {},
   "outputs": [
    {
     "name": "stdout",
     "output_type": "stream",
     "text": [
      "1\n",
      "2\n",
      "3\n",
      "4\n",
      "5\n",
      "6\n",
      "6\n",
      "7\n",
      "5\n",
      "9\n",
      "4\n",
      "2\n"
     ]
    }
   ],
   "source": [
    "# iterate a 3-D array\n",
    "arr3 = np.array([[[1,2,3],[4,5,6]], [[6,7,5],[9,4,2]]])\n",
    "for i in arr3:\n",
    "    for j in i:\n",
    "        for k in j:\n",
    "            print(k)"
   ]
  },
  {
   "cell_type": "code",
   "execution_count": 35,
   "id": "78bcddc1",
   "metadata": {},
   "outputs": [
    {
     "name": "stdout",
     "output_type": "stream",
     "text": [
      "45\n",
      "2.581988897471611\n"
     ]
    }
   ],
   "source": [
    "# some more operations\n",
    "arr1 = np.array([1,2,3,4,5,6,7,8,9])\n",
    "# print sum of all the elements of numpy array\n",
    "print(arr1.sum())\n",
    "# print standard deviation\n",
    "print(arr1.std())"
   ]
  },
  {
   "cell_type": "code",
   "execution_count": 36,
   "id": "0c61d73c",
   "metadata": {},
   "outputs": [
    {
     "name": "stdout",
     "output_type": "stream",
     "text": [
      "[22 26 30]\n"
     ]
    }
   ],
   "source": [
    "arr2 = np.array([[1,2,3],[4,5,6],[7,8,9],[10,11,12]])\n",
    "print(arr2.sum(axis=0))\n",
    "# this prints the sum of all the columns in numpy array"
   ]
  },
  {
   "cell_type": "code",
   "execution_count": null,
   "id": "dc3a86fa",
   "metadata": {},
   "outputs": [],
   "source": []
  }
 ],
 "metadata": {
  "kernelspec": {
   "display_name": "Python 3",
   "language": "python",
   "name": "python3"
  },
  "language_info": {
   "codemirror_mode": {
    "name": "ipython",
    "version": 3
   },
   "file_extension": ".py",
   "mimetype": "text/x-python",
   "name": "python",
   "nbconvert_exporter": "python",
   "pygments_lexer": "ipython3",
   "version": "3.8.8"
  }
 },
 "nbformat": 4,
 "nbformat_minor": 5
}
