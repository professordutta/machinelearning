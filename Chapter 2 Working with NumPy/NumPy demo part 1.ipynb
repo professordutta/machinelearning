{
 "cells": [
  {
   "cell_type": "code",
   "execution_count": 1,
   "id": "1dfe814e",
   "metadata": {},
   "outputs": [],
   "source": [
    "# importing numpy \n",
    "import numpy"
   ]
  },
  {
   "cell_type": "code",
   "execution_count": 2,
   "id": "0a4c0386",
   "metadata": {},
   "outputs": [
    {
     "name": "stdout",
     "output_type": "stream",
     "text": [
      "1.23.5\n"
     ]
    }
   ],
   "source": [
    "# print version of numpy\n",
    "print(numpy.__version__)"
   ]
  },
  {
   "cell_type": "code",
   "execution_count": 3,
   "id": "6d4f3051",
   "metadata": {},
   "outputs": [],
   "source": [
    "# use alias to import numpy\n",
    "import numpy as np"
   ]
  },
  {
   "cell_type": "code",
   "execution_count": 4,
   "id": "b032171c",
   "metadata": {},
   "outputs": [
    {
     "name": "stdout",
     "output_type": "stream",
     "text": [
      "1.23.5\n"
     ]
    }
   ],
   "source": [
    "# print the version of numpy using alias\n",
    "print(np.__version__)"
   ]
  },
  {
   "cell_type": "code",
   "execution_count": 5,
   "id": "3d5fed51",
   "metadata": {},
   "outputs": [],
   "source": [
    "# creating a 0 Dimension numpy array using single number\n",
    "x = np.array(2)"
   ]
  },
  {
   "cell_type": "code",
   "execution_count": 6,
   "id": "754ae5a0",
   "metadata": {},
   "outputs": [
    {
     "name": "stdout",
     "output_type": "stream",
     "text": [
      "2\n"
     ]
    }
   ],
   "source": [
    "# print the 0-D numpy array\n",
    "print(x)"
   ]
  },
  {
   "cell_type": "code",
   "execution_count": 7,
   "id": "4dde4708",
   "metadata": {},
   "outputs": [
    {
     "name": "stdout",
     "output_type": "stream",
     "text": [
      "0\n"
     ]
    }
   ],
   "source": [
    "# check the dimension of array\n",
    "print(x.ndim)"
   ]
  },
  {
   "cell_type": "code",
   "execution_count": 8,
   "id": "2220603f",
   "metadata": {},
   "outputs": [
    {
     "name": "stdout",
     "output_type": "stream",
     "text": [
      "[1 2 3]\n",
      "1\n"
     ]
    }
   ],
   "source": [
    "# cerate a 1-D array\n",
    "y = np.array([1,2,3])\n",
    "# print this 1-D array\n",
    "print(y)\n",
    "# check the dimesnsion of numpy array y\n",
    "print(y.ndim)"
   ]
  },
  {
   "cell_type": "code",
   "execution_count": 10,
   "id": "d305e628",
   "metadata": {},
   "outputs": [
    {
     "name": "stdout",
     "output_type": "stream",
     "text": [
      "[[1 2 3]\n",
      " [4 5 6]]\n",
      "2\n"
     ]
    }
   ],
   "source": [
    "# create a 2-D array\n",
    "z = np.array([[1,2,3],[4,5,6]])\n",
    "# print this 2-D array\n",
    "print(z)\n",
    "# check the dimension of numpy array z\n",
    "print(z.ndim)"
   ]
  },
  {
   "cell_type": "code",
   "execution_count": 11,
   "id": "c516c7bf",
   "metadata": {},
   "outputs": [
    {
     "name": "stdout",
     "output_type": "stream",
     "text": [
      "[[[ 1  2  3]\n",
      "  [ 4  5  6]]\n",
      "\n",
      " [[ 7  8  9]\n",
      "  [10 11 12]]]\n",
      "3\n"
     ]
    }
   ],
   "source": [
    "# create a 3-D array\n",
    "k = np.array([[[1,2,3],[4,5,6]], [[7,8,9],[10,11,12]]])\n",
    "# print this 3-D array\n",
    "print(k)\n",
    "# check the dimension of numpy array k\n",
    "print(k.ndim)"
   ]
  },
  {
   "cell_type": "code",
   "execution_count": 12,
   "id": "8a9c9ed3",
   "metadata": {},
   "outputs": [
    {
     "name": "stdout",
     "output_type": "stream",
     "text": [
      "[[[[1 2 3 4]]]]\n",
      "4\n"
     ]
    }
   ],
   "source": [
    "# usage of ndmin argument for create higher dimension numpy array\n",
    "m = np.array([1,2,3,4], ndmin = 4)\n",
    "# print this numpy array\n",
    "print(m)\n",
    "# verify the dimension of this numpy array\n",
    "print(m.ndim)"
   ]
  },
  {
   "cell_type": "code",
   "execution_count": 13,
   "id": "5514fd3d",
   "metadata": {},
   "outputs": [
    {
     "name": "stdout",
     "output_type": "stream",
     "text": [
      "1\n",
      "2\n"
     ]
    }
   ],
   "source": [
    "# accessing the elements of 1-D array\n",
    "# print the first element\n",
    "# here y is 1D array storing [1,2,3]\n",
    "print(y[0])\n",
    "# print the second element\n",
    "print(y[1])"
   ]
  },
  {
   "cell_type": "code",
   "execution_count": 14,
   "id": "97c2b9c6",
   "metadata": {},
   "outputs": [
    {
     "name": "stdout",
     "output_type": "stream",
     "text": [
      "3\n",
      "2\n"
     ]
    }
   ],
   "source": [
    "# use negative indexing for accessing the elements of 1-D array\n",
    "# print the last element\n",
    "print(y[-1])\n",
    "# print the 2nd element from the end\n",
    "print(y[-2])"
   ]
  },
  {
   "cell_type": "code",
   "execution_count": 19,
   "id": "da94f46b",
   "metadata": {},
   "outputs": [
    {
     "name": "stdout",
     "output_type": "stream",
     "text": [
      "[2 3]\n"
     ]
    }
   ],
   "source": [
    "# print the last 2 elements of y using negative indexing\n",
    "print(y[-2:])"
   ]
  },
  {
   "cell_type": "code",
   "execution_count": 20,
   "id": "60196e15",
   "metadata": {},
   "outputs": [
    {
     "name": "stdout",
     "output_type": "stream",
     "text": [
      "2\n"
     ]
    }
   ],
   "source": [
    "# accessing elements of a 2-D numpy array\n",
    "# use numpy array z = [[1,2,3],[4,5,6]]\n",
    "# to print 2 use row 0 and column 1\n",
    "print(z[0,1])"
   ]
  },
  {
   "cell_type": "code",
   "execution_count": 21,
   "id": "fc8554ab",
   "metadata": {},
   "outputs": [
    {
     "name": "stdout",
     "output_type": "stream",
     "text": [
      "3\n"
     ]
    }
   ],
   "source": [
    "# using negative indexing for accessing a 2-D array\n",
    "# use row 0 and column -1 to print 3 as output\n",
    "print(z[0,-1])"
   ]
  },
  {
   "cell_type": "code",
   "execution_count": 22,
   "id": "78e863ab",
   "metadata": {},
   "outputs": [
    {
     "name": "stdout",
     "output_type": "stream",
     "text": [
      "4\n"
     ]
    }
   ],
   "source": [
    "# accessing elements of a 3-D numpy array\n",
    "# use numpy array k which currently has value [[[1,2,3],[4,5,6]],[[7,8,9],[10,11,12]]]\n",
    "# to print 4 use the index combination of 0,1,0\n",
    "print(k[0,1,0])"
   ]
  },
  {
   "cell_type": "code",
   "execution_count": 23,
   "id": "fe587826",
   "metadata": {},
   "outputs": [],
   "source": [
    "# slicing a numpy array\n",
    "# create a numpy array\n",
    "x = np.array([1,2,3,4,5,6,7,8,9])"
   ]
  },
  {
   "cell_type": "code",
   "execution_count": 24,
   "id": "62725f04",
   "metadata": {},
   "outputs": [
    {
     "name": "stdout",
     "output_type": "stream",
     "text": [
      "[2 3 4 5]\n"
     ]
    }
   ],
   "source": [
    "# print elements from index position 1 to 4\n",
    "print(x[1:5])"
   ]
  },
  {
   "cell_type": "code",
   "execution_count": 25,
   "id": "852aef24",
   "metadata": {},
   "outputs": [
    {
     "name": "stdout",
     "output_type": "stream",
     "text": [
      "[2 3 4 5 6 7 8 9]\n"
     ]
    }
   ],
   "source": [
    "# print elements from index position 1 to end\n",
    "print(x[1:])"
   ]
  },
  {
   "cell_type": "code",
   "execution_count": 26,
   "id": "fdde83bf",
   "metadata": {},
   "outputs": [
    {
     "name": "stdout",
     "output_type": "stream",
     "text": [
      "[2 4 6 8]\n"
     ]
    }
   ],
   "source": [
    "# print elements from index position 1 to 7 with step size of 2\n",
    "print(x[1:8:2])"
   ]
  },
  {
   "cell_type": "code",
   "execution_count": 32,
   "id": "d14acbe0",
   "metadata": {},
   "outputs": [
    {
     "name": "stdout",
     "output_type": "stream",
     "text": [
      "[5]\n"
     ]
    }
   ],
   "source": [
    "# slicing a 2-D numpy array\n",
    "# use z which is currently storing [[1,2,3],[4,5,6]]\n",
    "# the following line will print [5] as ouput\n",
    "print(z[1, 1:2])"
   ]
  },
  {
   "cell_type": "code",
   "execution_count": 42,
   "id": "cf5171c5",
   "metadata": {},
   "outputs": [
    {
     "name": "stdout",
     "output_type": "stream",
     "text": [
      "[[ 3  4  5  6]\n",
      " [10 11 12 13]]\n"
     ]
    }
   ],
   "source": [
    "# create another 2-D numpy array\n",
    "arr1 = np.array([[1,2,3,4,5,6,7],[8,9,10,11,12,13,14]])\n",
    "# the following statement will print [[3,4,5,6],[10,11,12,13]] as output\n",
    "print(arr1[0:2, 2:6])"
   ]
  },
  {
   "cell_type": "code",
   "execution_count": 35,
   "id": "52e716bf",
   "metadata": {},
   "outputs": [
    {
     "name": "stdout",
     "output_type": "stream",
     "text": [
      "int32\n"
     ]
    }
   ],
   "source": [
    "# use of property dtype\n",
    "print(arr1.dtype)"
   ]
  },
  {
   "cell_type": "code",
   "execution_count": 37,
   "id": "bd9d885f",
   "metadata": {},
   "outputs": [
    {
     "name": "stdout",
     "output_type": "stream",
     "text": [
      "|S1\n"
     ]
    }
   ],
   "source": [
    "# dtype can be used when you define numpy array\n",
    "arr2 = np.array([1,2,3,4,5,6,7], dtype='S')\n",
    "print(arr2.dtype)"
   ]
  },
  {
   "cell_type": "code",
   "execution_count": 39,
   "id": "aab63cce",
   "metadata": {},
   "outputs": [
    {
     "name": "stdout",
     "output_type": "stream",
     "text": [
      "int32\n",
      "[1 2 3 4 5]\n"
     ]
    }
   ],
   "source": [
    "# use of astype\n",
    "arr3 = np.array([1.1, 2.2, 3.3, 4.4, 5.5])\n",
    "arr4 = arr3.astype('i')\n",
    "print(arr4.dtype)\n",
    "print(arr4)"
   ]
  },
  {
   "cell_type": "code",
   "execution_count": 43,
   "id": "1d0cdc09",
   "metadata": {},
   "outputs": [
    {
     "name": "stdout",
     "output_type": "stream",
     "text": [
      "[[15  2  3  4  5  6  7]\n",
      " [ 8  9 10 11 12 13 14]]\n",
      "---------\n",
      "[[ 1  2  3  4  5  6  7]\n",
      " [ 8  9 10 11 12 13 14]]\n"
     ]
    }
   ],
   "source": [
    "# copy vs view\n",
    "arr5 = arr1.copy()\n",
    "arr1[0,0] = 15\n",
    "print(arr1)\n",
    "print('---------')\n",
    "print(arr5)"
   ]
  },
  {
   "cell_type": "code",
   "execution_count": 44,
   "id": "7ce7affa",
   "metadata": {},
   "outputs": [
    {
     "name": "stdout",
     "output_type": "stream",
     "text": [
      "[[15  2  3  4  5  6  7]\n",
      " [ 8  9 10 11 12 13 14]]\n",
      "-------\n",
      "[[15  2  3  4  5  6  7]\n",
      " [ 8  9 10 11 12 13 14]]\n"
     ]
    }
   ],
   "source": [
    "# now lets use view\n",
    "# first redefine arr1\n",
    "arr1 = np.array([[1,2,3,4,5,6,7],[8,9,10,11,12,13,14]])\n",
    "arr5 = arr1.view()\n",
    "arr1[0,0] = 15\n",
    "print(arr1)\n",
    "print('-------')\n",
    "print(arr5)"
   ]
  },
  {
   "cell_type": "code",
   "execution_count": 45,
   "id": "5f76585e",
   "metadata": {},
   "outputs": [
    {
     "name": "stdout",
     "output_type": "stream",
     "text": [
      "None\n",
      "[[15  2  3  4  5  6  7]\n",
      " [ 8  9 10 11 12 13 14]]\n"
     ]
    }
   ],
   "source": [
    "# use of base\n",
    "# None is retuuned in case numpy array owns the data otherwise original object is returned\n",
    "print(arr1.base)\n",
    "print(arr5.base)"
   ]
  },
  {
   "cell_type": "code",
   "execution_count": 46,
   "id": "bd03af04",
   "metadata": {},
   "outputs": [
    {
     "name": "stdout",
     "output_type": "stream",
     "text": [
      "(2, 7)\n"
     ]
    }
   ],
   "source": [
    "#  use of shape \n",
    "# it returns a tuple with each index showing the number of corresponding elements \n",
    "print(arr1.shape)"
   ]
  },
  {
   "cell_type": "code",
   "execution_count": 47,
   "id": "ab6cee0e",
   "metadata": {},
   "outputs": [
    {
     "name": "stdout",
     "output_type": "stream",
     "text": [
      "[1 2 3 4 5 6 7 8 9]\n",
      "(9,)\n",
      "------------\n",
      "[[1 2 3]\n",
      " [4 5 6]\n",
      " [7 8 9]]\n"
     ]
    }
   ],
   "source": [
    "# use of reshape\n",
    "# used to change the numpy array dimesnion\n",
    "#  for example from 1-D to 2-D, from 1-D to 3-D\n",
    "# reshaping is possible provided the number of elements in the reshaped array are same as that in the original array\n",
    "# create a 1-D numpy array\n",
    "arr6 = np.array([1,2,3,4,5,6,7,8,9])\n",
    "print(arr6)\n",
    "print(arr6.shape)\n",
    "print('------------')\n",
    "arr7 = arr6.reshape(3,3)\n",
    "print(arr7)"
   ]
  },
  {
   "cell_type": "code",
   "execution_count": 48,
   "id": "c0a653d6",
   "metadata": {},
   "outputs": [
    {
     "name": "stdout",
     "output_type": "stream",
     "text": [
      "[[[1 2]\n",
      "  [3 4]]\n",
      "\n",
      " [[5 6]\n",
      "  [7 8]]]\n"
     ]
    }
   ],
   "source": [
    "# reshape 1-D numpy array to 3-D numpy array\n",
    "arr8 = np.array([1,2,3,4,5,6,7,8])\n",
    "arr9 = arr8.reshape(2,2,2)\n",
    "print(arr9)"
   ]
  },
  {
   "cell_type": "code",
   "execution_count": null,
   "id": "64404102",
   "metadata": {},
   "outputs": [],
   "source": []
  }
 ],
 "metadata": {
  "kernelspec": {
   "display_name": "Python 3",
   "language": "python",
   "name": "python3"
  },
  "language_info": {
   "codemirror_mode": {
    "name": "ipython",
    "version": 3
   },
   "file_extension": ".py",
   "mimetype": "text/x-python",
   "name": "python",
   "nbconvert_exporter": "python",
   "pygments_lexer": "ipython3",
   "version": "3.8.8"
  }
 },
 "nbformat": 4,
 "nbformat_minor": 5
}
